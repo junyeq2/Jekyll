{
 "cells": [
  {
   "cell_type": "markdown",
   "metadata": {},
   "source": [
    "Junye Qiu\n",
    "\n",
    "IE517\n",
    "\n",
    "Module 7 Homework(Random Forest)\n",
    "\n",
    "\n"
   ]
  },
  {
   "cell_type": "code",
   "execution_count": 8,
   "metadata": {},
   "outputs": [],
   "source": [
    "import pandas as pd\n",
    "from sklearn.model_selection import train_test_split\n",
    "from sklearn.ensemble import RandomForestClassifier\n",
    "from sklearn.model_selection import GridSearchCV\n",
    "import numpy as np\n",
    "\n",
    "df = pd.read_csv('ccdefault.csv')\n",
    "X = df.iloc[:,1:24].values\n",
    "y = df.iloc[:,24].values\n",
    "X_train, X_test, y_train, y_test = train_test_split(\n",
    "    X, y, test_size=0.1, random_state = 42, stratify=y)"
   ]
  },
  {
   "cell_type": "code",
   "execution_count": 27,
   "metadata": {},
   "outputs": [
    {
     "name": "stdout",
     "output_type": "stream",
     "text": [
      "--------------------------------------\n",
      "n_estimators:  100\n",
      "CV mean scores:  0.8156666666666667\n",
      "CV scores std:  0.004379306620302208\n",
      "Running time: 17.905701637268066 Seconds\n",
      "--------------------------------------\n",
      "n_estimators:  200\n",
      "CV mean scores:  0.8162222222222223\n",
      "CV scores std:  0.0044283659785585554\n",
      "Running time: 35.15527844429016 Seconds\n",
      "--------------------------------------\n",
      "n_estimators:  300\n",
      "CV mean scores:  0.8162592592592592\n",
      "CV scores std:  0.004275973645531949\n",
      "Running time: 51.69054818153381 Seconds\n",
      "--------------------------------------\n",
      "n_estimators:  400\n",
      "CV mean scores:  0.8163703703703703\n",
      "CV scores std:  0.004238435407679993\n",
      "Running time: 69.1022732257843 Seconds\n",
      "--------------------------------------\n",
      "n_estimators:  500\n",
      "CV mean scores:  0.8166666666666667\n",
      "CV scores std:  0.0041771473125545725\n",
      "Running time: 86.36947321891785 Seconds\n"
     ]
    }
   ],
   "source": [
    "from sklearn.model_selection import cross_val_score\n",
    "import time\n",
    "\n",
    "for n in [100,200,300,400,500]:\n",
    "    start =time.time()\n",
    "    forest = RandomForestClassifier(n_estimators = n,\n",
    "                                criterion = \"gini\",\n",
    "                                random_state = 1,\n",
    "                                max_depth = None\n",
    "                                )\n",
    "    scores = cross_val_score(estimator = forest,\n",
    "                         X = X_train,\n",
    "                         y = y_train,\n",
    "                         cv = 10,\n",
    "                         n_jobs = -1)\n",
    "    print('--------------------------------------')\n",
    "    print('n_estimators: ', n)\n",
    "    print('CV mean scores: ', np.mean(scores))\n",
    "    print('CV scores std: ', np.std(scores))\n",
    "    end = time.time()\n",
    "    print('Running time: %s Seconds'%(end-start))\n",
    "    \n",
    "\n"
   ]
  },
  {
   "cell_type": "code",
   "execution_count": 29,
   "metadata": {},
   "outputs": [
    {
     "data": {
      "text/plain": [
       "RandomForestClassifier(n_estimators=500, random_state=1)"
      ]
     },
     "execution_count": 29,
     "metadata": {},
     "output_type": "execute_result"
    }
   ],
   "source": [
    "forest = RandomForestClassifier(n_estimators = 500,\n",
    "                                criterion = \"gini\",\n",
    "                                random_state = 1,\n",
    "                                max_depth = None\n",
    "                                )\n",
    "forest.fit(X_train,y_train)"
   ]
  },
  {
   "cell_type": "code",
   "execution_count": 35,
   "metadata": {},
   "outputs": [
    {
     "name": "stdout",
     "output_type": "stream",
     "text": [
      " 1) PAY_0                          0.097799\n",
      " 2) AGE                            0.066675\n",
      " 3) BILL_AMT1                      0.060302\n",
      " 4) LIMIT_BAL                      0.060122\n",
      " 5) BILL_AMT2                      0.054541\n",
      " 6) BILL_AMT3                      0.051528\n",
      " 7) BILL_AMT6                      0.050964\n",
      " 8) BILL_AMT4                      0.050531\n",
      " 9) PAY_AMT1                       0.050383\n",
      "10) BILL_AMT5                      0.050240\n",
      "11) PAY_AMT2                       0.047785\n",
      "12) PAY_AMT3                       0.046514\n",
      "13) PAY_AMT6                       0.046149\n",
      "14) PAY_2                          0.045184\n",
      "15) PAY_AMT5                       0.043556\n",
      "16) PAY_AMT4                       0.043033\n",
      "17) PAY_3                          0.025717\n",
      "18) PAY_4                          0.023303\n",
      "19) PAY_5                          0.020974\n",
      "20) EDUCATION                      0.020297\n",
      "21) PAY_6                          0.018735\n",
      "22) MARRIAGE                       0.013636\n",
      "23) SEX                            0.012030\n"
     ]
    }
   ],
   "source": [
    "feature_names = df.columns[1:]\n",
    "importances = forest.feature_importances_\n",
    "indices = np.argsort(importances)[::-1]\n",
    "for f in range(X_train.shape[1]):\n",
    "    print(\"%2d) %-*s %f\"\n",
    "           % (f+1,30,feature_names[indices[f]], importances[indices[f]]))"
   ]
  },
  {
   "cell_type": "code",
   "execution_count": 34,
   "metadata": {},
   "outputs": [
    {
     "data": {
      "image/png": "[encoded data removed]",
      "text/plain": [
       "<Figure size 432x288 with 1 Axes>"
      ]
     },
     "metadata": {
      "needs_background": "light"
     },
     "output_type": "display_data"
    }
   ],
   "source": [
    "import matplotlib.pyplot as plt\n",
    "plt.title('Feature Importance')\n",
    "plt.bar(range(X_train.shape[1]),importances[indices],align = 'center')\n",
    "plt.xticks(range(X_train.shape[1]),feature_names, rotation = 90)\n",
    "plt.tight_layout()\n",
    "plt.show()"
   ]
  },
  {
   "cell_type": "markdown",
   "metadata": {},
   "source": [
    "As n_estimators imcreases, in-sample CV accurary and computation time grow. The optional number of estimators of my model is 500. The feature \"LIMIT_BAL\" contributes the most importance in my model. Using a random forest, The more information we get when spliting using one features, the more important is the feature. We can measure the feature importance as the averaged impurity decrease computed from all decision trees in the forest."
   ]
  }
 ],
 "metadata": {
  "kernelspec": {
   "display_name": "Python 3",
   "language": "python",
   "name": "python3"
  },
  "language_info": {
   "codemirror_mode": {
    "name": "ipython",
    "version": 3
   },
   "file_extension": ".py",
   "mimetype": "text/x-python",
   "name": "python",
   "nbconvert_exporter": "python",
   "pygments_lexer": "ipython3",
   "version": "3.8.3"
  }
 },
 "nbformat": 4,
 "nbformat_minor": 4
}
