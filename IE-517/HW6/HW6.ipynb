{
 "cells": [
  {
   "cell_type": "code",
   "execution_count": 73,
   "metadata": {},
   "outputs": [
    {
     "name": "stdout",
     "output_type": "stream",
     "text": [
      "Random state:  1  In-sample Score:  0.8474444444444444\n",
      "Random state:  1  Out-of-sample Score:  0.8066666666666666\n",
      " \n",
      "Random state:  2  In-sample Score:  0.8487407407407408\n",
      "Random state:  2  Out-of-sample Score:  0.812\n",
      " \n",
      "Random state:  3  In-sample Score:  0.8502962962962963\n",
      "Random state:  3  Out-of-sample Score:  0.8056666666666666\n",
      " \n",
      "Random state:  4  In-sample Score:  0.8471111111111111\n",
      "Random state:  4  Out-of-sample Score:  0.8146666666666667\n",
      " \n",
      "Random state:  5  In-sample Score:  0.8478888888888889\n",
      "Random state:  5  Out-of-sample Score:  0.809\n",
      " \n",
      "Random state:  6  In-sample Score:  0.8452222222222222\n",
      "Random state:  6  Out-of-sample Score:  0.806\n",
      " \n",
      "Random state:  7  In-sample Score:  0.8452592592592593\n",
      "Random state:  7  Out-of-sample Score:  0.815\n",
      " \n",
      "Random state:  8  In-sample Score:  0.8475925925925926\n",
      "Random state:  8  Out-of-sample Score:  0.8016666666666666\n",
      " \n",
      "Random state:  9  In-sample Score:  0.8501851851851852\n",
      "Random state:  9  Out-of-sample Score:  0.81\n",
      " \n",
      "Random state:  10  In-sample Score:  0.8465185185185186\n",
      "Random state:  10  Out-of-sample Score:  0.804\n",
      " \n",
      "In-of-sample Mean score:  0.847625925925926\n",
      "In-of-sample Standard deviation:  0.0016702389699486898\n",
      " \n",
      "Out-of-sample Mean score:  0.8084666666666667\n",
      "Out-of-sample Standard deviation:  0.004237924020083414\n",
      "Running time: 3.6294822692871094 Seconds\n"
     ]
    }
   ],
   "source": [
    "from sklearn.model_selection import train_test_split\n",
    "from sklearn.tree import DecisionTreeClassifier\n",
    "import numpy as np\n",
    "from sklearn.metrics import accuracy_score\n",
    "import pandas as pd\n",
    "import time\n",
    "\n",
    "start =time.time()\n",
    "df = pd.read_csv('ccdefault.csv')\n",
    "X = df.iloc[:,1:24].values\n",
    "y = df.iloc[:,24].values\n",
    "out_tree_scores = []\n",
    "in_tree_scores = []\n",
    "for i in range(1,11):\n",
    "    X_train, X_test, y_train, y_test = train_test_split(\n",
    "    X, y, test_size=0.1, random_state = i, stratify=y)\n",
    "    tree = DecisionTreeClassifier(criterion='gini', \n",
    "                              max_depth=10, \n",
    "                              random_state=1)\n",
    "    tree.fit(X_train, y_train)\n",
    "    tree_y_pred = tree.predict(X_test)\n",
    "    in_tree_scores.append(accuracy_score(y_train, tree.predict(X_train)))\n",
    "    out_tree_scores.append(accuracy_score(y_test, tree_y_pred))\n",
    "    print('Random state: ', i, ' In-sample Score: ', accuracy_score(y_train, tree.predict(X_train))\n",
    "           )\n",
    "    print('Random state: ', i, ' Out-of-sample Score: ', accuracy_score(y_test, tree_y_pred))\n",
    "    print(' ')\n",
    "    \n",
    "print('In-of-sample Mean score: ', np.mean(in_tree_scores))\n",
    "print('In-of-sample Standard deviation: ', np.std(in_tree_scores))\n",
    "print(' ')\n",
    "print('Out-of-sample Mean score: ', np.mean(out_tree_scores))\n",
    "print('Out-of-sample Standard deviation: ', np.std(out_tree_scores))\n",
    "end = time.time()\n",
    "print('Running time: %s Seconds'%(end-start))"
   ]
  },
  {
   "cell_type": "code",
   "execution_count": 74,
   "metadata": {},
   "outputs": [
    {
     "name": "stdout",
     "output_type": "stream",
     "text": [
      "CV accuracy scores:  [0.79777778 0.81703704 0.80037037 0.80888889 0.81259259 0.80888889\n",
      " 0.81259259 0.80888889 0.81148148 0.81037037]\n",
      "CV mean scores:  0.8088888888888889\n",
      "CV scores std:  0.005465943944999478\n",
      "Out-of-sample Score:  0.804\n",
      "Running time: 3.0528552532196045 Seconds\n"
     ]
    }
   ],
   "source": [
    "from sklearn.model_selection import cross_val_score\n",
    "start =time.time()\n",
    "X_train, X_test, y_train, y_test = train_test_split(\n",
    "    X, y, test_size=0.1, random_state = 10, stratify=y)\n",
    "tree = DecisionTreeClassifier(criterion='gini', \n",
    "                              max_depth=10, \n",
    "                              random_state=1)\n",
    "scores = cross_val_score(estimator = tree,\n",
    "                         X = X_train,\n",
    "                         y = y_train,\n",
    "                         cv = 10,\n",
    "                         n_jobs = 1)\n",
    "print('CV accuracy scores: ', scores)\n",
    "print('CV mean scores: ', np.mean(scores))\n",
    "print('CV scores std: ', np.std(scores))\n",
    "tree.fit(X_train,y_train)\n",
    "print('Out-of-sample Score: ', accuracy_score(y_test, tree.predict(X_test)))\n",
    "end = time.time()\n",
    "print('Running time: %s Seconds'%(end-start))"
   ]
  }
 ],
 "metadata": {
  "kernelspec": {
   "display_name": "Python 3",
   "language": "python",
   "name": "python3"
  },
  "language_info": {
   "codemirror_mode": {
    "name": "ipython",
    "version": 3
   },
   "file_extension": ".py",
   "mimetype": "text/x-python",
   "name": "python",
   "nbconvert_exporter": "python",
   "pygments_lexer": "ipython3",
   "version": "3.8.3"
  }
 },
 "nbformat": 4,
 "nbformat_minor": 4
}
